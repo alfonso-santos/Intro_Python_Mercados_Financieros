{
 "cells": [
  {
   "cell_type": "markdown",
   "metadata": {},
   "source": [
    "# ¿Qué es necesario para programar en Python?\n",
    "\n",
    "Para poder programar necesitamos los siguientes componentes:\n",
    "\n",
    "* El lenguaje de programación\n",
    "\n",
    "* Un entorno de programación"
   ]
  },
  {
   "cell_type": "markdown",
   "metadata": {},
   "source": [
    "# Lenguaje de programación:\n",
    "<br>\n",
    "<left>\n",
    "<img src=\"./imgs/Operating_system_placement.png\"  alt=\"drawing\" width=\"10%\"/>\n",
    "</centeleftr>"
   ]
  },
  {
   "cell_type": "markdown",
   "metadata": {},
   "source": [
    "# ¿Qué es Python?"
   ]
  },
  {
   "cell_type": "markdown",
   "metadata": {},
   "source": [
    "- Python es un lenguaje de programación  interpretado. \n",
    "\n",
    "- Python es un lenguaje no tipado (no hay que definir el tipo de variable, las variables pueden cambiar de tipo)\n",
    "\n",
    "- En python todo es un objeto, de esto hablaremos más adelante"
   ]
  },
  {
   "cell_type": "markdown",
   "metadata": {},
   "source": [
    "# Estructura de Python\n",
    "<center>\n",
    "<img src=\"./imgs/scipy_ecosystem.png\"  alt=\"drawing\" width=\"75%\"/>\n",
    "</center>"
   ]
  },
  {
   "cell_type": "markdown",
   "metadata": {},
   "source": [
    "# ¿Qué son los entornos virtuales?"
   ]
  },
  {
   "cell_type": "markdown",
   "metadata": {},
   "source": [
    "\n",
    "- Los entornos virtuales son nuestros espacio de trabajo\n",
    "- Como buena práctica se suele tener un entorno por cada proyecto que se quiera desarrollar\n",
    "<center>\n",
    "<img src=\"./imgs/venv_2.png\"  alt=\"drawing\" width=\"60%\"/>\n",
    "</center>\n",
    "\n",
    "## ¿Cómo se crea un entorno virtual en python?\n",
    "- Es muy sencillo tan solo hay que usar el siguiente código en una terminal:\n",
    "    - python -m venv \\<nombre del entorno virtual\\>\n",
    "- Se ejecuta de diferentes formas dependiendo del sistema en el que nos encontremos, eso lo veremos más adelante."
   ]
  },
  {
   "cell_type": "markdown",
   "metadata": {},
   "source": [
    " * Si en windows extieran problemas de permisos ejecutar en una termial con permisos de administración los siguientes comandos:\n",
    "  \n",
    "  get-ExecutionPolicy\n",
    "  \n",
    "  \n",
    "  Set-ExecutionPolicy Unrestricted"
   ]
  }
 ],
 "metadata": {
  "kernelspec": {
   "display_name": "Python 3.9.13 ('venv': venv)",
   "language": "python",
   "name": "python3"
  },
  "language_info": {
   "name": "python",
   "version": "3.9.13"
  },
  "orig_nbformat": 4,
  "vscode": {
   "interpreter": {
    "hash": "22cb0f1f6b6fc0a1bc72875728e990faf4498df1611eccb1ac603d8c0e7d2ba6"
   }
  }
 },
 "nbformat": 4,
 "nbformat_minor": 2
}
