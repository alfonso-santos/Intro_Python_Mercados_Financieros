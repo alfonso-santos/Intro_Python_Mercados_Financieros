{
 "cells": [
  {
   "cell_type": "markdown",
   "metadata": {},
   "source": [
    "# Python Aplicado a Finanzas Cuantitativas.\n",
    "\n",
    "### Organizado e impartido por la UDI de Financiación del Departamento de Financiación de la UAM\n",
    "\n",
    "\n",
    "\n",
    "<center>\n",
    "<img src=\"./1_introduccion/imgs/python-logo.png\"  alt=\"drawing\" width=\"500\"/>\n",
    "<img src=\"./1_introduccion/imgs/UAM-Logo.png\"  alt=\"drawing\" width=\"400\"/>\n",
    "</center>\n",
    "\n",
    "\n",
    "- Fernando Ubeda / [Alfonso Santos](https://www.linkedin.com/in/alfonso-santos-0195762/) \n",
    "\n",
    "- fernando.ubeda@uam.es / alfonso.santos@uam.es\n"
   ]
  },
  {
   "cell_type": "markdown",
   "metadata": {},
   "source": [
    "## **OJO**\n",
    "El contenido de este curso se encuentra disponible en [Colab](https://shorturl.at/bnor7).\n",
    "\n",
    "Para hacer una copia en tu disco local, en la ventana de COLAB: ARCHIVO -> GUARDAR UNA COPIA EN DRIVE."
   ]
  },
  {
   "cell_type": "markdown",
   "metadata": {},
   "source": [
    "## Módulo 1: Introducción\n",
    "\n",
    "* [1.1](1_introduccion/1_1_Intro.ipynb) Introducción\n",
    "\n",
    "* [1.2](1_introduccion/1_2_IDE.ipynb) Entorno de programación\n",
    "\n",
    "* [1.3](1_introduccion/1_3_jupyter_notebooks.ipynb) Jupyter Notebook\n",
    "\n",
    "* [ANEXO](1_introduccion/1_1_instalacion.ipynb) Instalación de Python"
   ]
  },
  {
   "cell_type": "markdown",
   "metadata": {},
   "source": [
    "## Módulo 2: Core de python\n",
    "* [2.1](2_python_core/2_1_syntaxis.ipynb) Syntaxis básica\n",
    "\n",
    "* [2.2](2_python_core/2_2_variables.ipynb) Variables\n",
    "\n",
    "* [2.3](2_python_core/2_3_operadores.ipynb) Operadores\n",
    "\n",
    "* [2.4](2_python_core/2_4_funciones_incorporadas.ipynb) Funciones incorporadas\n",
    "\n",
    "* [2.5](2_python_core/2_5_strings.ipynb) Strings\n",
    "\n",
    "* [2.6](2_python_core/2_6_listas_y_tuplas.ipynb) Listas\n",
    "\n",
    "* [2.7](2_python_core/2_7_diccionarios.ipynb) Diccionarios\n",
    "\n",
    "* [2.8](2_python_core/2_8_condicionales_y_bucles.ipynb) Condicionales y bucles\n",
    "\n",
    "* [2.9](2_python_core/2_9_funciones.ipynb) Funciones\n",
    "\n"
   ]
  },
  {
   "cell_type": "markdown",
   "metadata": {},
   "source": []
  },
  {
   "cell_type": "markdown",
   "metadata": {},
   "source": []
  }
 ],
 "metadata": {
  "kernelspec": {
   "display_name": "Python 3.9.13 ('venv': venv)",
   "language": "python",
   "name": "python3"
  },
  "language_info": {
   "codemirror_mode": {
    "name": "ipython",
    "version": 3
   },
   "file_extension": ".py",
   "mimetype": "text/x-python",
   "name": "python",
   "nbconvert_exporter": "python",
   "pygments_lexer": "ipython3",
   "version": "3.9.13"
  },
  "orig_nbformat": 4,
  "vscode": {
   "interpreter": {
    "hash": "22cb0f1f6b6fc0a1bc72875728e990faf4498df1611eccb1ac603d8c0e7d2ba6"
   }
  }
 },
 "nbformat": 4,
 "nbformat_minor": 2
}
